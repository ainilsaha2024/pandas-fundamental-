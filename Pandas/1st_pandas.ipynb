{
 "cells": [
  {
   "cell_type": "code",
   "execution_count": 6,
   "metadata": {},
   "outputs": [
    {
     "name": "stdout",
     "output_type": "stream",
     "text": [
      "Hello Pandas\n"
     ]
    }
   ],
   "source": [
    "print(\"Hello Pandas\")"
   ]
  },
  {
   "cell_type": "markdown",
   "metadata": {},
   "source": [
    "# Install Pandas and import "
   ]
  },
  {
   "cell_type": "code",
   "execution_count": 7,
   "metadata": {},
   "outputs": [],
   "source": [
    "import pandas as pd "
   ]
  },
  {
   "cell_type": "markdown",
   "metadata": {},
   "source": [
    "# create a list of data like example"
   ]
  },
  {
   "cell_type": "code",
   "execution_count": 8,
   "metadata": {},
   "outputs": [
    {
     "name": "stdout",
     "output_type": "stream",
     "text": [
      "<class 'list'>\n",
      "[1, 2, 3, 45, 10]\n"
     ]
    }
   ],
   "source": [
    "data = [1,2,3,45,10]\n",
    "print(type(data))\n",
    "print(data)"
   ]
  },
  {
   "cell_type": "code",
   "execution_count": 9,
   "metadata": {},
   "outputs": [
    {
     "name": "stdout",
     "output_type": "stream",
     "text": [
      "<class 'pandas.core.series.Series'>\n",
      "0     1\n",
      "1     2\n",
      "2     3\n",
      "3    45\n",
      "4    10\n",
      "dtype: int64\n"
     ]
    }
   ],
   "source": [
    "# create a series from the list \n",
    "s =pd.Series(data)\n",
    "\n",
    "print(type(s))\n",
    "\n",
    "print(s)"
   ]
  },
  {
   "cell_type": "code",
   "execution_count": 10,
   "metadata": {},
   "outputs": [
    {
     "name": "stdout",
     "output_type": "stream",
     "text": [
      "<class 'pandas.core.frame.DataFrame'>\n",
      "   Number\n",
      "0       1\n",
      "1       2\n",
      "2       3\n",
      "3      45\n",
      "4      10\n"
     ]
    }
   ],
   "source": [
    "# create a dataframe from the series\n",
    "df =pd.DataFrame(s, columns=[\"Number\"]) #columns = [\"name\"]\n",
    "\n",
    "print(type(df))\n",
    "\n",
    "print(df)"
   ]
  },
  {
   "cell_type": "code",
   "execution_count": 11,
   "metadata": {},
   "outputs": [
    {
     "name": "stdout",
     "output_type": "stream",
     "text": [
      "[1, 2, 3, 45, 10]\n"
     ]
    }
   ],
   "source": [
    "print(data)"
   ]
  },
  {
   "cell_type": "code",
   "execution_count": 12,
   "metadata": {},
   "outputs": [
    {
     "name": "stdout",
     "output_type": "stream",
     "text": [
      "<class 'pandas.core.frame.DataFrame'>\n",
      "   Number2\n",
      "0        1\n",
      "1        2\n",
      "2        3\n",
      "3       45\n",
      "4       10\n"
     ]
    }
   ],
   "source": [
    "# data variable list to dataframe create\n",
    "df =pd.DataFrame(data, columns=[\"Number2\"]) #columns = [\"name\"]\n",
    "\n",
    "print(type(df))\n",
    "\n",
    "print(df)"
   ]
  },
  {
   "cell_type": "code",
   "execution_count": 13,
   "metadata": {},
   "outputs": [
    {
     "name": "stdout",
     "output_type": "stream",
     "text": [
      "   Number2\n",
      "0        1\n",
      "1        2\n",
      "2        3\n",
      "3       45\n",
      "4       10\n"
     ]
    }
   ],
   "source": [
    "# dataframe from the series create \n",
    "df1 =pd.DataFrame(data, columns =[\"Number2\"])\n",
    "print(df1)\n"
   ]
  },
  {
   "cell_type": "code",
   "execution_count": 14,
   "metadata": {},
   "outputs": [
    {
     "name": "stdout",
     "output_type": "stream",
     "text": [
      "<class 'pandas.core.series.Series'>\n",
      "0     1\n",
      "1     2\n",
      "2     3\n",
      "3    45\n",
      "4    10\n",
      "Name: Number2, dtype: int64\n"
     ]
    }
   ],
   "source": [
    "s2 =df1[\"Number2\"]\n",
    "print(type(s2))\n",
    "print(s2)"
   ]
  },
  {
   "cell_type": "code",
   "execution_count": 15,
   "metadata": {},
   "outputs": [
    {
     "name": "stdout",
     "output_type": "stream",
     "text": [
      "[[1, 2], [3, 4], [5, 6]]\n"
     ]
    }
   ],
   "source": [
    "# create a series for 2 integer columns\n",
    "data =[[1,2],[3,4],[5,6]]\n",
    "print(data)"
   ]
  },
  {
   "cell_type": "code",
   "execution_count": 16,
   "metadata": {},
   "outputs": [
    {
     "name": "stdout",
     "output_type": "stream",
     "text": [
      "<class 'list'>\n",
      "   A  B\n",
      "0  1  2\n",
      "1  3  4\n",
      "2  5  6\n"
     ]
    }
   ],
   "source": [
    "# Create a dataframe from the list and rename the columns\n",
    "df=pd.DataFrame(data, columns=[\"A\",\"B\"])\n",
    "\n",
    "print(type(data))\n",
    "\n",
    "print(df)"
   ]
  },
  {
   "cell_type": "code",
   "execution_count": 17,
   "metadata": {},
   "outputs": [
    {
     "name": "stdout",
     "output_type": "stream",
     "text": [
      "<class 'pandas.core.frame.DataFrame'>\n",
      "   A  B\n",
      "0  1  2\n",
      "1  3  4\n",
      "2  5  6\n"
     ]
    }
   ],
   "source": [
    "# Create a series from the dataframe\n",
    "s = df[[\"A\",\"B\"]]\n",
    "print(type(s))\n",
    "\n",
    "print(s)"
   ]
  },
  {
   "cell_type": "markdown",
   "metadata": {},
   "source": [
    "# dictionary to series and DataFrame "
   ]
  },
  {
   "cell_type": "code",
   "execution_count": 18,
   "metadata": {},
   "outputs": [
    {
     "name": "stdout",
     "output_type": "stream",
     "text": [
      "{'NAME': ['sapnil', 'saha', 'niloy'], 'AGE': [20, 22, 24], 'CITY': ['bangladesh', 'narsingdi', 'dhaka']}\n"
     ]
    }
   ],
   "source": [
    "# create a dictionary \n",
    "data ={\n",
    "    \"NAME\" : [\"sapnil\",\"saha\",\"niloy\"],\n",
    "    \"AGE\" : [20,22,24],\n",
    "    \"CITY\" :[\"bangladesh\",\"narsingdi\",\"dhaka\"]\n",
    "}\n",
    "print(data)\n"
   ]
  },
  {
   "cell_type": "code",
   "execution_count": 19,
   "metadata": {},
   "outputs": [
    {
     "name": "stdout",
     "output_type": "stream",
     "text": [
      "0    sapnil\n",
      "1      saha\n",
      "2     niloy\n",
      "Name: Name, dtype: object\n"
     ]
    }
   ],
   "source": [
    "# create a series from the dictionary \n",
    "name_series = pd.Series(data[\"NAME\"],name= \"Name\")\n",
    "print(name_series)"
   ]
  },
  {
   "cell_type": "code",
   "execution_count": 20,
   "metadata": {},
   "outputs": [
    {
     "name": "stdout",
     "output_type": "stream",
     "text": [
      "     NAME  AGE        CITY\n",
      "0  sapnil   20  bangladesh\n",
      "1    saha   22   narsingdi\n",
      "2   niloy   24       dhaka\n"
     ]
    }
   ],
   "source": [
    "d = pd.DataFrame(data)\n",
    "print(d)"
   ]
  },
  {
   "cell_type": "code",
   "execution_count": 21,
   "metadata": {},
   "outputs": [
    {
     "ename": "KeyError",
     "evalue": "'AGE'",
     "output_type": "error",
     "traceback": [
      "\u001b[1;31m---------------------------------------------------------------------------\u001b[0m",
      "\u001b[1;31mKeyError\u001b[0m                                  Traceback (most recent call last)",
      "File \u001b[1;32md:\\My Fast Pandas\\myenv\\Lib\\site-packages\\pandas\\core\\indexes\\base.py:3805\u001b[0m, in \u001b[0;36mIndex.get_loc\u001b[1;34m(self, key)\u001b[0m\n\u001b[0;32m   3804\u001b[0m \u001b[38;5;28;01mtry\u001b[39;00m:\n\u001b[1;32m-> 3805\u001b[0m     \u001b[38;5;28;01mreturn\u001b[39;00m \u001b[38;5;28;43mself\u001b[39;49m\u001b[38;5;241;43m.\u001b[39;49m\u001b[43m_engine\u001b[49m\u001b[38;5;241;43m.\u001b[39;49m\u001b[43mget_loc\u001b[49m\u001b[43m(\u001b[49m\u001b[43mcasted_key\u001b[49m\u001b[43m)\u001b[49m\n\u001b[0;32m   3806\u001b[0m \u001b[38;5;28;01mexcept\u001b[39;00m \u001b[38;5;167;01mKeyError\u001b[39;00m \u001b[38;5;28;01mas\u001b[39;00m err:\n",
      "File \u001b[1;32mindex.pyx:167\u001b[0m, in \u001b[0;36mpandas._libs.index.IndexEngine.get_loc\u001b[1;34m()\u001b[0m\n",
      "File \u001b[1;32mindex.pyx:196\u001b[0m, in \u001b[0;36mpandas._libs.index.IndexEngine.get_loc\u001b[1;34m()\u001b[0m\n",
      "File \u001b[1;32mpandas\\\\_libs\\\\hashtable_class_helper.pxi:7081\u001b[0m, in \u001b[0;36mpandas._libs.hashtable.PyObjectHashTable.get_item\u001b[1;34m()\u001b[0m\n",
      "File \u001b[1;32mpandas\\\\_libs\\\\hashtable_class_helper.pxi:7089\u001b[0m, in \u001b[0;36mpandas._libs.hashtable.PyObjectHashTable.get_item\u001b[1;34m()\u001b[0m\n",
      "\u001b[1;31mKeyError\u001b[0m: 'AGE'",
      "\nThe above exception was the direct cause of the following exception:\n",
      "\u001b[1;31mKeyError\u001b[0m                                  Traceback (most recent call last)",
      "Cell \u001b[1;32mIn[21], line 1\u001b[0m\n\u001b[1;32m----> 1\u001b[0m age_series \u001b[38;5;241m=\u001b[39m\u001b[43mdf\u001b[49m\u001b[43m[\u001b[49m\u001b[38;5;124;43m\"\u001b[39;49m\u001b[38;5;124;43mAGE\u001b[39;49m\u001b[38;5;124;43m\"\u001b[39;49m\u001b[43m]\u001b[49m\n\u001b[0;32m      2\u001b[0m \u001b[38;5;28mprint\u001b[39m(age_series)\n",
      "File \u001b[1;32md:\\My Fast Pandas\\myenv\\Lib\\site-packages\\pandas\\core\\frame.py:4102\u001b[0m, in \u001b[0;36mDataFrame.__getitem__\u001b[1;34m(self, key)\u001b[0m\n\u001b[0;32m   4100\u001b[0m \u001b[38;5;28;01mif\u001b[39;00m \u001b[38;5;28mself\u001b[39m\u001b[38;5;241m.\u001b[39mcolumns\u001b[38;5;241m.\u001b[39mnlevels \u001b[38;5;241m>\u001b[39m \u001b[38;5;241m1\u001b[39m:\n\u001b[0;32m   4101\u001b[0m     \u001b[38;5;28;01mreturn\u001b[39;00m \u001b[38;5;28mself\u001b[39m\u001b[38;5;241m.\u001b[39m_getitem_multilevel(key)\n\u001b[1;32m-> 4102\u001b[0m indexer \u001b[38;5;241m=\u001b[39m \u001b[38;5;28;43mself\u001b[39;49m\u001b[38;5;241;43m.\u001b[39;49m\u001b[43mcolumns\u001b[49m\u001b[38;5;241;43m.\u001b[39;49m\u001b[43mget_loc\u001b[49m\u001b[43m(\u001b[49m\u001b[43mkey\u001b[49m\u001b[43m)\u001b[49m\n\u001b[0;32m   4103\u001b[0m \u001b[38;5;28;01mif\u001b[39;00m is_integer(indexer):\n\u001b[0;32m   4104\u001b[0m     indexer \u001b[38;5;241m=\u001b[39m [indexer]\n",
      "File \u001b[1;32md:\\My Fast Pandas\\myenv\\Lib\\site-packages\\pandas\\core\\indexes\\base.py:3812\u001b[0m, in \u001b[0;36mIndex.get_loc\u001b[1;34m(self, key)\u001b[0m\n\u001b[0;32m   3807\u001b[0m     \u001b[38;5;28;01mif\u001b[39;00m \u001b[38;5;28misinstance\u001b[39m(casted_key, \u001b[38;5;28mslice\u001b[39m) \u001b[38;5;129;01mor\u001b[39;00m (\n\u001b[0;32m   3808\u001b[0m         \u001b[38;5;28misinstance\u001b[39m(casted_key, abc\u001b[38;5;241m.\u001b[39mIterable)\n\u001b[0;32m   3809\u001b[0m         \u001b[38;5;129;01mand\u001b[39;00m \u001b[38;5;28many\u001b[39m(\u001b[38;5;28misinstance\u001b[39m(x, \u001b[38;5;28mslice\u001b[39m) \u001b[38;5;28;01mfor\u001b[39;00m x \u001b[38;5;129;01min\u001b[39;00m casted_key)\n\u001b[0;32m   3810\u001b[0m     ):\n\u001b[0;32m   3811\u001b[0m         \u001b[38;5;28;01mraise\u001b[39;00m InvalidIndexError(key)\n\u001b[1;32m-> 3812\u001b[0m     \u001b[38;5;28;01mraise\u001b[39;00m \u001b[38;5;167;01mKeyError\u001b[39;00m(key) \u001b[38;5;28;01mfrom\u001b[39;00m\u001b[38;5;250m \u001b[39m\u001b[38;5;21;01merr\u001b[39;00m\n\u001b[0;32m   3813\u001b[0m \u001b[38;5;28;01mexcept\u001b[39;00m \u001b[38;5;167;01mTypeError\u001b[39;00m:\n\u001b[0;32m   3814\u001b[0m     \u001b[38;5;66;03m# If we have a listlike key, _check_indexing_error will raise\u001b[39;00m\n\u001b[0;32m   3815\u001b[0m     \u001b[38;5;66;03m#  InvalidIndexError. Otherwise we fall through and re-raise\u001b[39;00m\n\u001b[0;32m   3816\u001b[0m     \u001b[38;5;66;03m#  the TypeError.\u001b[39;00m\n\u001b[0;32m   3817\u001b[0m     \u001b[38;5;28mself\u001b[39m\u001b[38;5;241m.\u001b[39m_check_indexing_error(key)\n",
      "\u001b[1;31mKeyError\u001b[0m: 'AGE'"
     ]
    }
   ],
   "source": [
    "age_series =df[\"AGE\"]\n",
    "print(age_series)"
   ]
  },
  {
   "cell_type": "markdown",
   "metadata": {},
   "source": [
    "# set to series and dataframe "
   ]
  },
  {
   "cell_type": "code",
   "execution_count": null,
   "metadata": {},
   "outputs": [
    {
     "name": "stdout",
     "output_type": "stream",
     "text": [
      "<class 'set'>\n"
     ]
    }
   ],
   "source": [
    "x= {1,2,3,4,5,7,10}\n",
    "print(type(x))"
   ]
  },
  {
   "cell_type": "code",
   "execution_count": null,
   "metadata": {},
   "outputs": [
    {
     "name": "stdout",
     "output_type": "stream",
     "text": [
      "[1, 2, 3, 4, 5, 7, 10]\n"
     ]
    }
   ],
   "source": [
    "a =list(x)\n",
    "print(a)"
   ]
  },
  {
   "cell_type": "code",
   "execution_count": null,
   "metadata": {},
   "outputs": [
    {
     "name": "stdout",
     "output_type": "stream",
     "text": [
      "0     1\n",
      "1     2\n",
      "2     3\n",
      "3     4\n",
      "4     5\n",
      "5     7\n",
      "6    10\n",
      "Name: Number, dtype: int64\n"
     ]
    }
   ],
   "source": [
    "s =pd.Series(list(a),name=\"Number\")\n",
    "print(s)"
   ]
  },
  {
   "cell_type": "code",
   "execution_count": null,
   "metadata": {},
   "outputs": [
    {
     "name": "stdout",
     "output_type": "stream",
     "text": [
      "   Set values\n",
      "0           1\n",
      "1           2\n",
      "2           3\n",
      "3           4\n",
      "4           5\n",
      "5           7\n",
      "6          10\n"
     ]
    }
   ],
   "source": [
    "d =pd.DataFrame(a, columns=[\"Set values\"])\n",
    "print(d)"
   ]
  },
  {
   "cell_type": "code",
   "execution_count": null,
   "metadata": {},
   "outputs": [
    {
     "name": "stdout",
     "output_type": "stream",
     "text": [
      "0        1\n",
      "1        2\n",
      "2        3\n",
      "3        4\n",
      "4       54\n",
      "5        6\n",
      "6     True\n",
      "7    False\n",
      "Name: tuple number, dtype: object\n"
     ]
    }
   ],
   "source": [
    "t =(1,2,3,4,54,6,True,False)\n",
    "ss = pd.Series(t,name=\"tuple number\")\n",
    "print(ss)"
   ]
  },
  {
   "cell_type": "code",
   "execution_count": null,
   "metadata": {},
   "outputs": [
    {
     "name": "stdout",
     "output_type": "stream",
     "text": [
      "  Number\n",
      "0      1\n",
      "1      2\n",
      "2      3\n",
      "3      4\n",
      "4     54\n",
      "5      6\n",
      "6   True\n",
      "7  False\n"
     ]
    }
   ],
   "source": [
    "ddff =pd.DataFrame(t,columns=[\"Number\"])\n",
    "print(ddff)"
   ]
  },
  {
   "cell_type": "code",
   "execution_count": null,
   "metadata": {},
   "outputs": [
    {
     "name": "stdout",
     "output_type": "stream",
     "text": [
      "<class 'pandas.core.frame.DataFrame'>\n",
      "RangeIndex: 8 entries, 0 to 7\n",
      "Data columns (total 1 columns):\n",
      " #   Column  Non-Null Count  Dtype \n",
      "---  ------  --------------  ----- \n",
      " 0   Number  8 non-null      object\n",
      "dtypes: object(1)\n",
      "memory usage: 196.0+ bytes\n"
     ]
    }
   ],
   "source": [
    "ddff.info()"
   ]
  },
  {
   "cell_type": "code",
   "execution_count": null,
   "metadata": {},
   "outputs": [
    {
     "name": "stdout",
     "output_type": "stream",
     "text": [
      "   AGE  SALARY\n",
      "0   25   50000\n",
      "1   30   65000\n",
      "2   26   45000\n",
      "3   28   67000\n",
      "4   20   32000\n",
      "5   22   48000\n",
      "6   40   80000\n",
      "7   28   56000\n"
     ]
    }
   ],
   "source": [
    "#creating a Dataframe with integer data \n",
    "integer_data= {\n",
    "    \"AGE\" : [25,30,26,28,20,22,40,28],\n",
    "    \"SALARY\" : [50000,65000,45000,67000,32000,48000,80000,56000]\n",
    "}\n",
    "\n",
    "int_df =pd.DataFrame(integer_data)\n",
    "print(int_df)"
   ]
  },
  {
   "cell_type": "code",
   "execution_count": null,
   "metadata": {},
   "outputs": [
    {
     "name": "stdout",
     "output_type": "stream",
     "text": [
      "<class 'pandas.core.frame.DataFrame'>\n",
      "RangeIndex: 8 entries, 0 to 7\n",
      "Data columns (total 2 columns):\n",
      " #   Column  Non-Null Count  Dtype\n",
      "---  ------  --------------  -----\n",
      " 0   AGE     8 non-null      int64\n",
      " 1   SALARY  8 non-null      int64\n",
      "dtypes: int64(2)\n",
      "memory usage: 260.0 bytes\n"
     ]
    }
   ],
   "source": [
    "int_df.info()"
   ]
  },
  {
   "cell_type": "code",
   "execution_count": null,
   "metadata": {},
   "outputs": [
    {
     "data": {
      "text/plain": [
       "AGE       int64\n",
       "SALARY    int64\n",
       "dtype: object"
      ]
     },
     "execution_count": 80,
     "metadata": {},
     "output_type": "execute_result"
    }
   ],
   "source": [
    "int_df.dtypes"
   ]
  },
  {
   "cell_type": "code",
   "execution_count": null,
   "metadata": {},
   "outputs": [
    {
     "name": "stdout",
     "output_type": "stream",
     "text": [
      "   AGE  SALARY\n",
      "0   25   50000\n",
      "1   30   65000\n",
      "2   26   45000\n",
      "3   28   67000\n",
      "4   20   32000\n",
      "5   22   48000\n",
      "6   40   80000\n",
      "7   28   56000\n"
     ]
    }
   ],
   "source": [
    "# changeing data type to int32 \n",
    "int_df[\"AGE\"] = int_df[\"AGE\"].astype(\"int32\")\n",
    "int_df[\"SALARY\"] = int_df[\"SALARY\"].astype(\"int32\")\n",
    "print(int_df)"
   ]
  },
  {
   "cell_type": "code",
   "execution_count": null,
   "metadata": {},
   "outputs": [
    {
     "name": "stdout",
     "output_type": "stream",
     "text": [
      "<class 'pandas.core.frame.DataFrame'>\n",
      "RangeIndex: 8 entries, 0 to 7\n",
      "Data columns (total 2 columns):\n",
      " #   Column  Non-Null Count  Dtype\n",
      "---  ------  --------------  -----\n",
      " 0   AGE     8 non-null      int32\n",
      " 1   SALARY  8 non-null      int32\n",
      "dtypes: int32(2)\n",
      "memory usage: 196.0 bytes\n"
     ]
    }
   ],
   "source": [
    "int_df.info()"
   ]
  },
  {
   "cell_type": "code",
   "execution_count": null,
   "metadata": {},
   "outputs": [
    {
     "data": {
      "text/plain": [
       "4294967296"
      ]
     },
     "execution_count": 83,
     "metadata": {},
     "output_type": "execute_result"
    }
   ],
   "source": [
    "2**32"
   ]
  },
  {
   "cell_type": "code",
   "execution_count": null,
   "metadata": {},
   "outputs": [
    {
     "data": {
      "text/plain": [
       "2147483648.0"
      ]
     },
     "execution_count": 85,
     "metadata": {},
     "output_type": "execute_result"
    }
   ],
   "source": [
    "4294967296/2\n",
    "\n"
   ]
  },
  {
   "cell_type": "markdown",
   "metadata": {},
   "source": [
    "# - 2147483648 to + 2147483647 \n",
    "\n"
   ]
  },
  {
   "cell_type": "code",
   "execution_count": null,
   "metadata": {},
   "outputs": [
    {
     "name": "stdout",
     "output_type": "stream",
     "text": [
      "   AGE  SALARY\n",
      "0   25  -15536\n",
      "1   30    -536\n",
      "2   26  -20536\n",
      "3   28    1464\n",
      "4   20   32000\n",
      "5   22  -17536\n",
      "6   40   14464\n",
      "7   28   -9536\n"
     ]
    }
   ],
   "source": [
    "# changeing data type to int16\n",
    "int_df[\"AGE\"] = int_df[\"AGE\"].astype(\"int16\")\n",
    "int_df[\"SALARY\"] = int_df[\"SALARY\"].astype(\"int16\")\n",
    "print(int_df)"
   ]
  },
  {
   "cell_type": "code",
   "execution_count": null,
   "metadata": {},
   "outputs": [
    {
     "data": {
      "text/plain": [
       "32768"
      ]
     },
     "execution_count": 87,
     "metadata": {},
     "output_type": "execute_result"
    }
   ],
   "source": [
    "2**15"
   ]
  },
  {
   "cell_type": "markdown",
   "metadata": {},
   "source": [
    "# - 32768 to + 32767"
   ]
  },
  {
   "cell_type": "code",
   "execution_count": null,
   "metadata": {},
   "outputs": [
    {
     "name": "stdout",
     "output_type": "stream",
     "text": [
      "   AGE  SALARY\n",
      "0   25   50000\n",
      "1   30   65000\n",
      "2   26   45000\n",
      "3   28   67000\n",
      "4   20   32000\n",
      "5   22   48000\n",
      "6   40   80000\n",
      "7   28   56000\n"
     ]
    }
   ],
   "source": [
    "#creating a Dataframe with float data \n",
    "integer_data= {\n",
    "    \"AGE\" : [25,30,26,28,20,22,40,28],\n",
    "    \"SALARY\" : [50000,65000,45000,67000,32000,48000,80000,56000]\n",
    "}\n",
    "\n",
    "int_df =pd.DataFrame(integer_data)\n",
    "print(int_df)"
   ]
  },
  {
   "cell_type": "code",
   "execution_count": null,
   "metadata": {},
   "outputs": [
    {
     "name": "stdout",
     "output_type": "stream",
     "text": [
      "<class 'pandas.core.frame.DataFrame'>\n",
      "RangeIndex: 8 entries, 0 to 7\n",
      "Data columns (total 2 columns):\n",
      " #   Column  Non-Null Count  Dtype\n",
      "---  ------  --------------  -----\n",
      " 0   AGE     8 non-null      int64\n",
      " 1   SALARY  8 non-null      int64\n",
      "dtypes: int64(2)\n",
      "memory usage: 260.0 bytes\n"
     ]
    }
   ],
   "source": [
    "int_df.info()"
   ]
  },
  {
   "cell_type": "code",
   "execution_count": null,
   "metadata": {},
   "outputs": [
    {
     "name": "stdout",
     "output_type": "stream",
     "text": [
      "    AGE   SALARY\n",
      "0  25.0  50000.0\n",
      "1  30.0  65000.0\n",
      "2  26.0  45000.0\n",
      "3  28.0  67000.0\n",
      "4  20.0  32000.0\n",
      "5  22.0  48000.0\n",
      "6  40.0  80000.0\n",
      "7  28.0  56000.0\n"
     ]
    }
   ],
   "source": [
    "# changeing data type to float64\n",
    "int_df[\"AGE\"] = int_df[\"AGE\"].astype(\"float64\")\n",
    "int_df[\"SALARY\"] = int_df[\"SALARY\"].astype(\"float64\")\n",
    "print(int_df)"
   ]
  },
  {
   "cell_type": "code",
   "execution_count": null,
   "metadata": {},
   "outputs": [
    {
     "name": "stdout",
     "output_type": "stream",
     "text": [
      "<class 'pandas.core.frame.DataFrame'>\n",
      "RangeIndex: 8 entries, 0 to 7\n",
      "Data columns (total 2 columns):\n",
      " #   Column  Non-Null Count  Dtype  \n",
      "---  ------  --------------  -----  \n",
      " 0   AGE     8 non-null      float64\n",
      " 1   SALARY  8 non-null      float64\n",
      "dtypes: float64(2)\n",
      "memory usage: 260.0 bytes\n"
     ]
    }
   ],
   "source": [
    "int_df.info()"
   ]
  },
  {
   "cell_type": "code",
   "execution_count": 23,
   "metadata": {},
   "outputs": [
    {
     "name": "stdout",
     "output_type": "stream",
     "text": [
      "{'Name': ['Sapnil ', 'Saha', 'Niloy'], 'Age': [27, 24, 22], 'Occupation': ['Data Scientist', 'Software Engineer', 'Teacher'], 'Salary': [60000, 55000, 70000]}\n"
     ]
    }
   ],
   "source": [
    "# create a dictionary with mixed data type \n",
    "data1 = {\n",
    "    \"Name\" : [\"Sapnil \",\"Saha\",\"Niloy\"],\n",
    "    \"Age\" : [27,24,22],\n",
    "    \"Occupation\" : [\"Data Scientist\",\"Software Engineer\",\"Teacher\"],\n",
    "    \"Salary\" : [60000,55000,70000]\n",
    "}\n",
    "\n",
    "print(data1)"
   ]
  },
  {
   "cell_type": "code",
   "execution_count": 26,
   "metadata": {},
   "outputs": [
    {
     "name": "stdout",
     "output_type": "stream",
     "text": [
      "      Name  Age         Occupation  Salary\n",
      "0  Sapnil    27     Data Scientist   60000\n",
      "1     Saha   24  Software Engineer   55000\n",
      "2    Niloy   22            Teacher   70000\n",
      " \n",
      "Name          object\n",
      "Age            int64\n",
      "Occupation    object\n",
      "Salary         int64\n",
      "dtype: object\n"
     ]
    }
   ],
   "source": [
    "# create a dataframe and check the data type \n",
    "data_type=pd.DataFrame(data1)\n",
    "print(data_type)\n",
    "print(\" \")\n",
    "print(data_type.dtypes)"
   ]
  },
  {
   "cell_type": "code",
   "execution_count": null,
   "metadata": {},
   "outputs": [
    {
     "name": "stdout",
     "output_type": "stream",
     "text": [
      "{'Name': ['Sapnil ', 'Saha', 'Niloy'], 'Age': [27, 24, 22], 'Occupation': ['Data Scientist', 'Software Engineer', 'Teacher'], 'Salary': ['60000 BDT', '55000 BDT', '70000 BDT']}\n",
      " \n",
      "      Name  Age         Occupation     Salary\n",
      "0  Sapnil    27     Data Scientist  60000 BDT\n",
      "1     Saha   24  Software Engineer  55000 BDT\n",
      "2    Niloy   22            Teacher  70000 BDT\n",
      " \n",
      "Name          object\n",
      "Age            int64\n",
      "Occupation    object\n",
      "Salary        object\n",
      "dtype: object\n"
     ]
    }
   ],
   "source": [
    "data1 = {\n",
    "    \"Name\" : [\"Sapnil \",\"Saha\",\"Niloy\"],\n",
    "    \"Age\" : [27,24,22],\n",
    "    \"Occupation\" : [\"Data Scientist\",\"Software Engineer\",\"Teacher\"],\n",
    "    \"Salary\" : [\"60000 BDT\",\"55000 BDT\",\"70000 BDT\"]\n",
    "}\n",
    "\n",
    "print(data1)\n",
    "\n",
    "print(\" \")\n",
    "\n",
    "data_type=pd.DataFrame(data1)\n",
    "\n",
    "print(data_type)\n",
    "\n",
    "print(\" \")\n",
    "\n",
    "print(data_type.dtypes)"
   ]
  },
  {
   "cell_type": "markdown",
   "metadata": {},
   "source": [
    "# DateTime  "
   ]
  },
  {
   "cell_type": "code",
   "execution_count": 31,
   "metadata": {},
   "outputs": [
    {
     "name": "stdout",
     "output_type": "stream",
     "text": [
      " \n",
      "         Date\n",
      "0  2025-02-20\n",
      "1  2025-02-21\n",
      "2  2025-02-22\n",
      " \n"
     ]
    },
    {
     "data": {
      "text/plain": [
       "dtype('O')"
      ]
     },
     "execution_count": 31,
     "metadata": {},
     "output_type": "execute_result"
    }
   ],
   "source": [
    "# create a list of dates\n",
    "dt = [\"2025-02-20\",\"2025-02-21\",\"2025-02-22\"]\n",
    "print(\" \")\n",
    "# Create a DataFrame with a datetime column \n",
    "dt_df =pd.DataFrame({\"Date\" : dt })\n",
    "print(dt_df)\n",
    "print(\" \")\n",
    "#cheak the data type of the \"Date\" column \n",
    "dt_df[\"Date\"].dtype\n"
   ]
  },
  {
   "cell_type": "code",
   "execution_count": 32,
   "metadata": {},
   "outputs": [
    {
     "name": "stdout",
     "output_type": "stream",
     "text": [
      "       Date2\n",
      "0 2025-02-20\n",
      "1 2025-02-21\n",
      "2 2025-02-22\n",
      "\n",
      "<class 'pandas.core.frame.DataFrame'>\n",
      "RangeIndex: 3 entries, 0 to 2\n",
      "Data columns (total 1 columns):\n",
      " #   Column  Non-Null Count  Dtype         \n",
      "---  ------  --------------  -----         \n",
      " 0   Date2   3 non-null      datetime64[ns]\n",
      "dtypes: datetime64[ns](1)\n",
      "memory usage: 156.0 bytes\n"
     ]
    }
   ],
   "source": [
    "timestamps = pd.to_datetime(dt)\n",
    "dt_df2 = pd.DataFrame({\"Date2\" : timestamps})\n",
    "print(dt_df2)\n",
    "print(\"\")\n",
    "\n",
    "dt_df2.info()"
   ]
  },
  {
   "cell_type": "code",
   "execution_count": 34,
   "metadata": {},
   "outputs": [
    {
     "name": "stdout",
     "output_type": "stream",
     "text": [
      "datetime64[ns]\n",
      " \n",
      "                           Date\n",
      "0 2023-10-04 12:34:56.123456789\n",
      "1 2023-11-15 15:23:45.987654321\n"
     ]
    }
   ],
   "source": [
    "dates =[\"2023-10-04 12:34:56.123456789\",\"2023-11-15 15:23:45.987654321\"]\n",
    "timestamps=pd.to_datetime(dates)\n",
    "dates_df=pd.DataFrame({\"Date\" : timestamps})\n",
    "\n",
    "print(dates_df[\"Date\"].dtype)\n",
    "\n",
    "print(\" \")\n",
    "print(dates_df)"
   ]
  },
  {
   "cell_type": "code",
   "execution_count": 35,
   "metadata": {},
   "outputs": [
    {
     "name": "stdout",
     "output_type": "stream",
     "text": [
      "0   2023-10-04 12:34:56.123456789\n",
      "1   2023-11-15 15:23:45.987654321\n",
      "Name: dates, dtype: datetime64[ns]\n"
     ]
    }
   ],
   "source": [
    "timestamps=pd.to_datetime(dates)\n",
    "series=pd.Series(timestamps,name=\"dates\")\n",
    "print(series)"
   ]
  },
  {
   "cell_type": "code",
   "execution_count": null,
   "metadata": {},
   "outputs": [],
   "source": []
  }
 ],
 "metadata": {
  "kernelspec": {
   "display_name": "myenv",
   "language": "python",
   "name": "python3"
  },
  "language_info": {
   "codemirror_mode": {
    "name": "ipython",
    "version": 3
   },
   "file_extension": ".py",
   "mimetype": "text/x-python",
   "name": "python",
   "nbconvert_exporter": "python",
   "pygments_lexer": "ipython3",
   "version": "3.13.1"
  }
 },
 "nbformat": 4,
 "nbformat_minor": 2
}
